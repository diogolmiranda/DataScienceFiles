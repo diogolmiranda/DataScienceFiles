{
 "cells": [
  {
   "cell_type": "markdown",
   "id": "e9959f48",
   "metadata": {
    "deletable": false
   },
   "source": [
    "\n",
    "# Assignment 4 for Course 1MS041\n",
    "Make sure you pass the `# ... Test` cells and\n",
    " submit your solution notebook in the corresponding assignment on the course website. You can submit multiple times before the deadline and your highest score will be used."
   ]
  },
  {
   "cell_type": "markdown",
   "id": "b63d8b71",
   "metadata": {
    "deletable": false,
    "lx_assignment_number": "4",
    "lx_assignment_type": "ASSIGNMENT",
    "lx_assignment_type2print": "Assignment",
    "lx_problem_cell_type": "PROBLEM",
    "lx_problem_number": "1",
    "lx_problem_points": "24"
   },
   "source": [
    "---\n",
    "## Assignment 4, PROBLEM 1\n",
    "Maximum Points = 24"
   ]
  },
  {
   "cell_type": "markdown",
   "id": "04e1585d",
   "metadata": {
    "deletable": false,
    "lx_assignment_number": "4",
    "lx_assignment_type": "ASSIGNMENT",
    "lx_assignment_type2print": "Assignment",
    "lx_problem_cell_type": "PROBLEM",
    "lx_problem_number": "1",
    "lx_problem_points": "24"
   },
   "source": [
    "\n",
    "    This time the assignment only consists of one problem, but we will do a more comprehensive analysis instead.\n",
    "\n",
    "Consider the dataset `Corona_NLP_train.csv` that you can get from the course website [git](https://github.com/datascience-intro/1MS041-2024/blob/main/notebooks/data/Corona_NLP_train.csv). The data is \"Coronavirus tweets NLP - Text Classification\" that can be found on [kaggle](https://www.kaggle.com/datasets/datatattle/covid-19-nlp-text-classification). The data has several columns, but we will only be working with `OriginalTweet`and `Sentiment`.\n",
    "\n",
    "1. [3p] Load the data and filter out those tweets that have `Sentiment`=`Neutral`. Let $X$ represent the `OriginalTweet` and let \n",
    "    $$\n",
    "        Y = \n",
    "        \\begin{cases}\n",
    "        1 & \\text{if sentiment is towards positive}\n",
    "        \\\\\n",
    "        0 & \\text{if sentiment is towards negative}.\n",
    "        \\end{cases}\n",
    "    $$\n",
    "    Put the resulting arrays into the variables $X$ and $Y$. Split the data into three parts, train/test/validation where train is 60% of the data, test is 15% and validation is 25% of the data. Do not do this randomly, this is to make sure that we all did the same splits (we are in this case assuming the data is IID as presented in the dataset). That is [train,test,validation] is the splitting layout.\n",
    "\n",
    "2. [4p] There are many ways to solve this classification problem. The first main issue to resolve is to convert the $X$ variable to something that you can feed into a machine learning model. For instance, you can first use [`CountVectorizer`](https://scikit-learn.org/1.5/modules/generated/sklearn.feature_extraction.text.CountVectorizer.html) as the first step. The step that comes after should be a `LogisticRegression` model, but for this to work you need to put together the `CountVectorizer` and the `LogisticRegression` model into a [`Pipeline`](https://scikit-learn.org/1.5/modules/generated/sklearn.pipeline.Pipeline.html#sklearn.pipeline.Pipeline). Fill in the variable `model` such that it accepts the raw text as input and outputs a number $0$ or $1$, make sure that `model.predict_proba` works for this. **Hint: You might need to play with the parameters of LogisticRegression to get convergence, make sure that it doesn't take too long or the autograder might kill your code**\n",
    "3. [3p] Use your trained model and calculate the precision and recall on both classes. Fill in the corresponding variables with the answer.\n",
    "4. [3p] Let us now define a cost function\n",
    "    * A positive tweet that is classified as negative will have a cost of 1\n",
    "    * A negative tweet that is classified as positive will have a cost of 5\n",
    "    * Correct classifications cost 0\n",
    "    \n",
    "    complete filling the function `cost` to compute the cost of a prediction model under a certain prediction threshold (recall our precision recall lecture and the `predict_proba` function from trained models). \n",
    "\n",
    "5. [4p] Now, we wish to select the threshold of our classifier that minimizes the cost, fill in the selected threshold value in value `optimal_threshold`.\n",
    "6. [4p] With your newly computed threshold value, compute the cost of putting this model in production by computing the cost using the validation data. Also provide a confidence interval of the cost using Hoeffdings inequality with a 99% confidence.\n",
    "7. [3p] Let $t$ be the threshold you found and $f$ the model you fitted (one of the outputs of `predict_proba`), if we define the random variable\n",
    "    $$\n",
    "        C = (1-1_{f(X)\\geq t})Y+5(1-Y)1_{f(X) \\geq t}\n",
    "    $$\n",
    "    then $C$ denotes the cost of a randomly chosen tweet. In the previous step we estimated $\\mathbb{E}[C]$ using the empirical mean. However, since the threshold is chosen to minimize cost it is likely that $C=0$ or $C=1$ than $C=5$ as such it will have a low variance. Compute the empirical variance of $C$ on the validation set. What would be the confidence interval if we used Bennett's inequality instead of Hoeffding in point 6 but with the computed empirical variance as our guess for the variance?"
   ]
  },
  {
   "cell_type": "code",
   "execution_count": 2,
   "id": "49e6fa33",
   "metadata": {
    "deletable": false,
    "lx_assignment_number": "4",
    "lx_assignment_type": "ASSIGNMENT",
    "lx_assignment_type2print": "Assignment",
    "lx_problem_cell_type": "PROBLEM",
    "lx_problem_number": "1",
    "lx_problem_points": "24"
   },
   "outputs": [
    {
     "name": "stderr",
     "output_type": "stream",
     "text": [
      "C:\\Users\\saber\\AppData\\Local\\Temp\\ipykernel_28392\\3576213355.py:16: SettingWithCopyWarning: \n",
      "A value is trying to be set on a copy of a slice from a DataFrame.\n",
      "Try using .loc[row_indexer,col_indexer] = value instead\n",
      "\n",
      "See the caveats in the documentation: https://pandas.pydata.org/pandas-docs/stable/user_guide/indexing.html#returning-a-view-versus-a-copy\n",
      "  filtered_data['Sentiment'] = filtered_data['Sentiment'].map(\n"
     ]
    },
    {
     "name": "stdout",
     "output_type": "stream",
     "text": [
      "Train set: (20066,) (20066,)\n",
      "Test set: (5016,) (5016,)\n",
      "Validation set: (8362,) (8362,)\n"
     ]
    }
   ],
   "source": [
    "\n",
    "# Part 1\n",
    "\n",
    "# Load the data from the file specified in the problem definition and make sure that it is loaded using\n",
    "# the search path `data/Corona_NLP_train.csv`. This is to make sure the autograder and your computer have the same\n",
    "# file path and can load the data correctly.\n",
    "import numpy as np\n",
    "import pandas as pd\n",
    "\n",
    "file_path = \"data/Corona_NLP_train.csv\"\n",
    "data = pd.read_csv(file_path, encoding='latin1')\n",
    "\n",
    "data.head(10)\n",
    "# Filter out rows where `Sentiment` is Neutral\n",
    "filtered_data = data[data['Sentiment'] != 'Neutral']\n",
    "\n",
    "# Step 3: Convert `Sentiment` to binary (1 for positive, 0 for negative)\n",
    "filtered_data['Sentiment'] = filtered_data['Sentiment'].map(\n",
    "    lambda sentiment: 1 if sentiment in ['Positive', 'Extremely Positive'] else 0\n",
    ")\n",
    "\n",
    "# Step 4: Define X (OriginalTweet) and Y (Sentiment)\n",
    "# Make sure that all your data is numpy arrays and not pandas dataframes or series.\n",
    "# X = XXX\n",
    "# Y = YYY\n",
    "X = filtered_data['OriginalTweet'].values\n",
    "Y = filtered_data['Sentiment'].values\n",
    "\n",
    "# Contrary to how many other problems are structured, this problem actually requires you to\n",
    "# have X on the shape (n_samples, ) that is a 1-dimensional array. Otherwise it will cause a bunch\n",
    "# of errors in the autograder or also in for instance CountVectorizer.\n",
    "# X_train = XXX\n",
    "# Y_train = YYY\n",
    "# X_test = XXX\n",
    "# Y_test = YYY\n",
    "# X_valid = XXX\n",
    "# Y_valid = YYY\n",
    "# n = len(X)\n",
    "# train_end = int(0.6 * n)\n",
    "# test_end = int(0.75 * n)\n",
    "\n",
    "# X_train, Y_train = X[:train_end], Y[:train_end]\n",
    "# X_test, Y_test = X[train_end:test_end], Y[train_end:test_end]\n",
    "# X_valid, Y_valid = X[test_end:], Y[test_end:]\n",
    "from sklearn.model_selection import train_test_split\n",
    "\n",
    "# First split: Training set (60%) and remaining set (40%)\n",
    "X_train, X_temp, Y_train, Y_temp = train_test_split(X, Y, test_size=0.4, random_state=42)\n",
    "\n",
    "# Second split: Test set (15%) and validation set (25%)\n",
    "X_test, X_valid, Y_test, Y_valid = train_test_split(X_temp, Y_temp, test_size=25/40, random_state=42)\n",
    "# Output the shapes of the splits for verification\n",
    "print(\"Train set:\", X_train.shape, Y_train.shape)\n",
    "print(\"Test set:\", X_test.shape, Y_test.shape)\n",
    "print(\"Validation set:\", X_valid.shape, Y_valid.shape)"
   ]
  },
  {
   "cell_type": "code",
   "execution_count": 3,
   "id": "078fe203",
   "metadata": {
    "deletable": false,
    "lx_assignment_number": "4",
    "lx_assignment_type": "ASSIGNMENT",
    "lx_assignment_type2print": "Assignment",
    "lx_problem_cell_type": "PROBLEM",
    "lx_problem_number": "1",
    "lx_problem_points": "24"
   },
   "outputs": [
    {
     "name": "stdout",
     "output_type": "stream",
     "text": [
      "Model training complete.\n"
     ]
    }
   ],
   "source": [
    "\n",
    "# Part 2\n",
    "\n",
    "# Train a machine learning model or pipeline that can take the raw strings from X and predict Y=0,1 depending on the\n",
    "# sentiment of the tweet. Store the trained model in the variable `model`.\n",
    "from sklearn.feature_extraction.text import CountVectorizer\n",
    "from sklearn.linear_model import LogisticRegression\n",
    "from sklearn.pipeline import Pipeline\n",
    "\n",
    "\n",
    "# Define the pipeline\n",
    "model = Pipeline([\n",
    "    #  Converts raw text into a numerical representation (bag-of-words model).\n",
    "    ('vectorizer', CountVectorizer(max_features=5000, stop_words='english')),\n",
    "    # A linear classifier that predicts Y=0 (negative sentiment) or Y=1 (positive sentiment).\n",
    "    ('classifier', LogisticRegression(max_iter=500, solver='lbfgs', random_state=42))\n",
    "])\n",
    "\n",
    "# Train the model on the training data (trains the entire pipeline)\n",
    "model.fit(X_train, Y_train)\n",
    "\n",
    "# Output to confirm the model is trained\n",
    "print(\"Model training complete.\")\n",
    "# model = XXX"
   ]
  },
  {
   "cell_type": "markdown",
   "id": "452a8c54",
   "metadata": {},
   "source": [
    "This code above uses a pipeline to streamline the process of preprocessing text data and training a machine learning model. A pipeline allows you to define a sequence of steps (e.g., preprocessing, vectorization, and classification) and treat them as a single model for training and prediction.\n",
    "\n"
   ]
  },
  {
   "cell_type": "code",
   "execution_count": 4,
   "id": "ec6fd1d4",
   "metadata": {
    "deletable": false,
    "lx_assignment_number": "4",
    "lx_assignment_type": "ASSIGNMENT",
    "lx_assignment_type2print": "Assignment",
    "lx_problem_cell_type": "PROBLEM",
    "lx_problem_number": "1",
    "lx_problem_points": "24"
   },
   "outputs": [
    {
     "name": "stdout",
     "output_type": "stream",
     "text": [
      "Precision (class 0): 0.8390201224846894\n",
      "Precision (class 1): 0.8673992673992674\n",
      "Recall (class 0): 0.8412280701754385\n",
      "Recall (class 1): 0.8654970760233918\n"
     ]
    }
   ],
   "source": [
    "\n",
    "# Part 3\n",
    "\n",
    "# Evaluate the model on the test set and calculate precision, and recall on both classes. Store the results in the\n",
    "# variables `precision_0`, `precision_1`, `recall_0`, `recall_1`.\n",
    "\n",
    "# precision_0 = XXX\n",
    "# precision_1 = XXX\n",
    "# recall_0 = XXX\n",
    "# recall_1 = XXX\n",
    "from sklearn.metrics import precision_score, recall_score\n",
    "\n",
    "# Predict on the test set\n",
    "Y_test_pred = model.predict(X_test)\n",
    "\n",
    "# Calculate precision and recall for both classes\n",
    "precision_0 = precision_score(Y_test, Y_test_pred, pos_label=0)\n",
    "precision_1 = precision_score(Y_test, Y_test_pred, pos_label=1)\n",
    "recall_0 = recall_score(Y_test, Y_test_pred, pos_label=0)\n",
    "recall_1 = recall_score(Y_test, Y_test_pred, pos_label=1)\n",
    "\n",
    "# Output results\n",
    "print(f\"Precision (class 0): {precision_0}\")\n",
    "print(f\"Precision (class 1): {precision_1}\")\n",
    "print(f\"Recall (class 0): {recall_0}\")\n",
    "print(f\"Recall (class 1): {recall_1}\")"
   ]
  },
  {
   "cell_type": "code",
   "execution_count": 5,
   "id": "10698374",
   "metadata": {
    "deletable": false,
    "lx_assignment_number": "4",
    "lx_assignment_type": "ASSIGNMENT",
    "lx_assignment_type2print": "Assignment",
    "lx_problem_cell_type": "PROBLEM",
    "lx_problem_number": "1",
    "lx_problem_points": "24"
   },
   "outputs": [],
   "source": [
    "\n",
    "# Part 4\n",
    "\n",
    "def cost(model,threshold,X,Y):\n",
    "    # Hint, make sure that the model has a predict_proba method\n",
    "    # think about how the decision is made based on the probabilities\n",
    "    # and how the threshold can be used to make the decision.\n",
    "    # For reference take a look at the lecture notes \"Bayes classifier\"\n",
    "    # which contains how the decision is made based on the probabilities when the threshold is 0.5.\n",
    "    \n",
    "    # Fill in what is missing to compute the cost and return it\n",
    "    # Note that we are interested in average cost\n",
    "    \n",
    "    # return XXX\n",
    "    \n",
    "    # Step 1: Get probabilities for class 1\n",
    "    probabilities = model.predict_proba(X)[:, 1]  # P(Y=1)\n",
    "\n",
    "    # Step 2: Apply the threshold to make predictions\n",
    "    predictions = (probabilities >= threshold).astype(int)\n",
    "\n",
    "    # Step 3: Assign costs based on predictions and true labels\n",
    "    costs = np.where(\n",
    "        (Y == 1) & (predictions == 0),  # False negative\n",
    "        1,  # Cost = 1\n",
    "        np.where(\n",
    "            (Y == 0) & (predictions == 1),  # False positive\n",
    "            5,  # Cost = 5\n",
    "            0  # Correct classification if the prediction mateches the label\n",
    "        )\n",
    "    )\n",
    "\n",
    "    # Step 4: Return the average cost\n",
    "    return costs.mean()"
   ]
  },
  {
   "cell_type": "code",
   "execution_count": 6,
   "id": "b21963ec",
   "metadata": {
    "deletable": false,
    "lx_assignment_number": "4",
    "lx_assignment_type": "ASSIGNMENT",
    "lx_assignment_type2print": "Assignment",
    "lx_problem_cell_type": "PROBLEM",
    "lx_problem_number": "1",
    "lx_problem_points": "24"
   },
   "outputs": [
    {
     "name": "stdout",
     "output_type": "stream",
     "text": [
      "Optimal threshold: 0.79\n",
      "Cost at optimal threshold: 0.29366028708133973\n"
     ]
    }
   ],
   "source": [
    "\n",
    "# Part 5\n",
    "\n",
    "# Find the optimal threshold for the model on the test set. Store the threshold in the variable `optimal_threshold`\n",
    "# and the cost at the optimal threshold in the variable `cost_at_optimal_threshold` evaluated on the test set.\n",
    "# optimal_threshold = XXX\n",
    "# cost_at_optimal_threshold = XXX\n",
    "\n",
    "# Step 1: Define a range of thresholds\n",
    "thresholds = np.arange(0.0, 1.01, 0.01)  # Thresholds from 0.0 to 1.0 in steps of 0.01\n",
    "\n",
    "# Step 2: Initialize variables to track the optimal threshold and its cost\n",
    "optimal_threshold = None\n",
    "min_cost = float('inf')\n",
    "\n",
    "# Step 3: Loop through thresholds and compute cost\n",
    "for threshold in thresholds:\n",
    "    current_cost = cost(model, threshold, X_test, Y_test)\n",
    "    if current_cost < min_cost:\n",
    "        min_cost = current_cost\n",
    "        optimal_threshold = threshold\n",
    "\n",
    "# Step 4: Store results\n",
    "cost_at_optimal_threshold = min_cost\n",
    "\n",
    "# Output the results\n",
    "print(f\"Optimal threshold: {optimal_threshold}\")\n",
    "print(f\"Cost at optimal threshold: {cost_at_optimal_threshold}\")\n"
   ]
  },
  {
   "cell_type": "markdown",
   "id": "6b1af0b3",
   "metadata": {},
   "source": [
    "Hoeffding's epsilon and confidence interval\n"
   ]
  },
  {
   "cell_type": "code",
   "execution_count": 7,
   "id": "79a1c5e6",
   "metadata": {
    "deletable": false,
    "lx_assignment_number": "4",
    "lx_assignment_type": "ASSIGNMENT",
    "lx_assignment_type2print": "Assignment",
    "lx_problem_cell_type": "PROBLEM",
    "lx_problem_number": "1",
    "lx_problem_points": "24"
   },
   "outputs": [
    {
     "name": "stdout",
     "output_type": "stream",
     "text": [
      "Cost on validation set at optimal threshold: 0.2958622339153313\n",
      "Confidence interval (99%): (np.float64(0.2780630985913333), np.float64(0.31366136923932925))\n"
     ]
    }
   ],
   "source": [
    "\n",
    "# # Part 6\n",
    "\n",
    "# cost_at_optimal_threshold_valid = XXX\n",
    "# cost_interval_valid = XXX\n",
    "\n",
    "\n",
    "\n",
    "import numpy as np\n",
    "\n",
    "# Step 1: Evaluate the cost on the validation set\n",
    "cost_at_optimal_threshold_valid = cost(model, optimal_threshold, X_valid, Y_valid)\n",
    "\n",
    "# Step 2: Define parameters for Hoeffding's inequality\n",
    "n_valid = len(Y_valid)  # Number of validation samples\n",
    "delta = 0.01  # 99% confidence level\n",
    "epsilon = np.sqrt(np.log(2 / delta) / (2 * n_valid))  # Hoeffding's epsilon\n",
    "\n",
    "# Step 3: Calculate the confidence interval\n",
    "cost_interval_valid = (\n",
    "    max(0, cost_at_optimal_threshold_valid - epsilon),  # Lower bound (ensure non-negative)\n",
    "    min(1, cost_at_optimal_threshold_valid + epsilon)   # Upper bound (ensure <= 1)\n",
    ")\n",
    "\n",
    "# Output results\n",
    "print(f\"Cost on validation set at optimal threshold: {cost_at_optimal_threshold_valid}\")\n",
    "print(f\"Confidence interval (99%): {cost_interval_valid}\")\n",
    "\n",
    "assert(type(cost_interval_valid) == tuple)\n",
    "assert(len(cost_interval_valid) == 2)"
   ]
  },
  {
   "cell_type": "markdown",
   "id": "9ecb3421",
   "metadata": {},
   "source": [
    "Bennett's inequality and empirical variance of C"
   ]
  },
  {
   "cell_type": "code",
   "execution_count": 8,
   "id": "e3bc0760",
   "metadata": {
    "deletable": false,
    "lx_assignment_number": "4",
    "lx_assignment_type": "ASSIGNMENT",
    "lx_assignment_type2print": "Assignment",
    "lx_problem_cell_type": "PROBLEM",
    "lx_problem_number": "1",
    "lx_problem_points": "24"
   },
   "outputs": [
    {
     "name": "stdout",
     "output_type": "stream",
     "text": [
      "Variance of C: 0.7177752730559043\n",
      "Confidence interval (99%) using Bennett's inequality: (np.float64(0.29585249897825755), np.float64(0.295871968852405))\n"
     ]
    }
   ],
   "source": [
    "\n",
    "# # Part 7\n",
    "\n",
    "# variance_of_C = XXX\n",
    "# interval_of_C = XXX\n",
    "import numpy as np\n",
    "\n",
    "# Step 1: Calculate C for each validation sample\n",
    "probabilities_valid = model.predict_proba(X_valid)[:, 1]  # P(Y=1)\n",
    "predictions_valid = (probabilities_valid >= optimal_threshold).astype(int)\n",
    "\n",
    "C = (1 - predictions_valid) * Y_valid + 5 * (1 - Y_valid) * predictions_valid\n",
    "\n",
    "# Step 2: Calculate empirical variance of C\n",
    "mean_C = C.mean()\n",
    "variance_of_C = ((C - mean_C) ** 2).mean()\n",
    "\n",
    "# Step 3: Apply Bennett's inequality\n",
    "n_valid = len(Y_valid)  # Number of validation samples\n",
    "delta = 0.01  # 99% confidence level\n",
    "b = 5  # Maximum value of C\n",
    "x = np.log(2 / delta) / (n_valid * variance_of_C)\n",
    "\n",
    "# Calculate epsilon using Bennett's inequality\n",
    "epsilon = b ** 2 * (x - np.log(1 + x))\n",
    "\n",
    "# Step 4: Confidence interval\n",
    "interval_of_C = (\n",
    "    max(0, mean_C - epsilon),  # Lower bound\n",
    "    min(5, mean_C + epsilon)   # Upper bound\n",
    ")\n",
    "\n",
    "# Output results\n",
    "print(f\"Variance of C: {variance_of_C}\")\n",
    "print(f\"Confidence interval (99%) using Bennett's inequality: {interval_of_C}\")\n",
    "\n",
    "\n",
    "assert(type(interval_of_C) == tuple)\n",
    "assert(len(interval_of_C) == 2)"
   ]
  }
 ],
 "metadata": {
  "kernelspec": {
   "display_name": "Python 3",
   "language": "python",
   "name": "python3"
  },
  "language_info": {
   "codemirror_mode": {
    "name": "ipython",
    "version": 3
   },
   "file_extension": ".py",
   "mimetype": "text/x-python",
   "name": "python",
   "nbconvert_exporter": "python",
   "pygments_lexer": "ipython3",
   "version": "3.13.0"
  },
  "lx_assignment_number": 4,
  "lx_course_instance": "2024",
  "lx_course_name": "Introduction to Data Science",
  "lx_course_number": "1MS041"
 },
 "nbformat": 4,
 "nbformat_minor": 5
}
